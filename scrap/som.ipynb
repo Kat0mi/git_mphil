{
 "cells": [
  {
   "cell_type": "code",
   "execution_count": null,
   "metadata": {},
   "outputs": [],
   "source": [
    "# ---------- SOM Implementation ----------"
   ]
  },
  {
   "cell_type": "code",
   "execution_count": 83,
   "metadata": {},
   "outputs": [
    {
     "name": "stderr",
     "output_type": "stream",
     "text": [
      "/var/folders/0x/kkmrq_ds03s51qwcspg7hcrr0000gn/T/ipykernel_13769/190113533.py:1: DeprecationWarning: `np.math` is a deprecated alias for the standard library `math` module (Deprecated Numpy 1.25). Replace usages of `np.math` with `math`\n",
      "  from numpy import math\n"
     ]
    },
    {
     "data": {
      "text/plain": [
       "242.33241632105268"
      ]
     },
     "execution_count": 83,
     "metadata": {},
     "output_type": "execute_result"
    }
   ],
   "source": [
    "from numpy import math\n",
    "5*math.sqrt(2349)"
   ]
  },
  {
   "cell_type": "code",
   "execution_count": 79,
   "metadata": {},
   "outputs": [
    {
     "data": {
      "image/png": "[encoded data removed]",
      "text/plain": [
       "<Figure size 720x720 with 1 Axes>"
      ]
     },
     "metadata": {
      "needs_background": "light"
     },
     "output_type": "display_data"
    },
    {
     "data": {
      "text/plain": [
       "<Figure size 432x288 with 0 Axes>"
      ]
     },
     "metadata": {},
     "output_type": "display_data"
    }
   ],
   "source": [
    "from pkg import *\n",
    "from minisom import MiniSom\n",
    "\n",
    "# -- Convert to numpy array, where each row holds data for each source --\n",
    "\n",
    "cdfs = np.array(cdfs)\n",
    "\n",
    "# -- Replace NaNs with 0's) --\n",
    "\n",
    "cdfs = np.nan_to_num(cdfs)\n",
    "\n",
    "# -- Define SOM function --\n",
    "\n",
    "som = MiniSom(x = 30, y = 30, input_len = 151, sigma = 0.3, learning_rate = 1000)\n",
    "\n",
    "# -- Apply to data and define iterations --\n",
    "\n",
    "som.train_random(cdfs, 10000)\n",
    "\n",
    "# -- Plot --\n",
    "\n",
    "plt.figure(figsize = (10, 10))\n",
    "\n",
    "# create colour bar of objects per pixel\n",
    "\n",
    "plt.pcolor(som.distance_map(), cmap = 'bone_r')\n",
    "\n",
    "\n",
    "plt.show()\n",
    "\n",
    "plt.savefig('/Users/jess/Desktop/diagnostic_plots/de_som/som_cdfs_900x900_lr1000_epoch1000.png', bbox_inches = 'tight', dpi = 300, transparent = False)\n"
   ]
  }
 ],
 "metadata": {
  "kernelspec": {
   "display_name": "Python 3",
   "language": "python",
   "name": "python3"
  },
  "language_info": {
   "codemirror_mode": {
    "name": "ipython",
    "version": 3
   },
   "file_extension": ".py",
   "mimetype": "text/x-python",
   "name": "python",
   "nbconvert_exporter": "python",
   "pygments_lexer": "ipython3",
   "version": "3.10.1"
  },
  "orig_nbformat": 4
 },
 "nbformat": 4,
 "nbformat_minor": 2
}
